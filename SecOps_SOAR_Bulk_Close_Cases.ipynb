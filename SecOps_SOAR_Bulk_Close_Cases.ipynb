{
  "nbformat": 4,
  "nbformat_minor": 0,
  "metadata": {
    "colab": {
      "provenance": []
    },
    "kernelspec": {
      "name": "python3",
      "display_name": "Python 3"
    },
    "language_info": {
      "name": "python"
    }
  },
  "cells": [
    {
      "cell_type": "markdown",
      "source": [
        "# Usage\n",
        "This notebook will bulk close SOAR cases in Google SecOps. This is useful for production planning where you may want to bulk remove test cases from testing\n",
        "\n",
        "Note: This will close all cases in the Default environment by default. You can use the `case_name_match` setting to filter based upon a certain case name. If you'd like update the script, you can also manually set the `end_time` to only close cases up until a certain date.\n"
      ],
      "metadata": {
        "id": "eJxrsWCc7L2x"
      }
    },
    {
      "cell_type": "code",
      "execution_count": null,
      "metadata": {
        "id": "2r2lacDmD_dP",
        "cellView": "form"
      },
      "outputs": [],
      "source": [
        "# @title Bulk close cases\n",
        "api_key = \"\" # @param {\"type\":\"string\",\"placeholder\":\"11111-222-333-444-5555555\"}\n",
        "soar_hostname = \"\" # @param {\"type\":\"string\",\"placeholder\":\"mysoar.siemplify-soar.com\"}\n",
        "case_name_match = \"\" # @param {\"type\":\"string\",\"placeholder\":\"\"}\n",
        "import requests\n",
        "import json\n",
        "from datetime import datetime\n",
        "\n",
        "# Get the current time in UTC\n",
        "now_utc = datetime.utcnow()\n",
        "\n",
        "# Format the time as a string\n",
        "end_time = now_utc.strftime(\"%Y-%m-%dT%H:%M:%S\") + \"Z\"\n",
        "\n",
        "headers = {\n",
        "            'content-type': 'application/json',\n",
        "            'Appkey' : api_key\n",
        "            }\n",
        "payload = {\n",
        "            \"startTime\": \"2023-07-10T00:00:00.000Z\",\n",
        "            \"endTime\": end_time,\n",
        "            \"isCaseClosed\": False,\n",
        "            \"pageSize\": 10000,\n",
        "            \"timeRangeFilter\": 0,\n",
        "            \"sortBy\": {\n",
        "              \"sortOrder\": 0,\n",
        "              \"sortBy\": \"Id\"\n",
        "            }\n",
        "          }\n",
        "endpoint = 'https://' + soar_hostname + '/api/external/v1/search/CaseSearchEverything'\n",
        "response = requests.post(url=endpoint, data=json.dumps(payload), headers=headers)\n",
        "\n",
        "print(response.status_code)\n",
        "json_results = response.json()\n",
        "for i in json_results['results']:\n",
        "    if case_name_match in i['title']:\n",
        "      print(i['id'])\n",
        "      del_payload = {\n",
        "                    \"caseId\": i['id'],\n",
        "                    \"reason\": \"NotMalicious\",\n",
        "                    \"rootCause\": \"Lab test\",\n",
        "                    \"comment\": \"Closed with API automation\",\n",
        "                 }\n",
        "      del_endpoint = 'https://' + soar_hostname + '/api/external/v1/cases/CloseCase'\n",
        "      del_resp = requests.post(url=del_endpoint, data=json.dumps(del_payload), headers=headers)\n",
        "      print(del_resp.text)\n",
        "\n",
        "\n"
      ]
    }
  ]
}