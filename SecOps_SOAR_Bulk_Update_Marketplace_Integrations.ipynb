{
  "nbformat": 4,
  "nbformat_minor": 0,
  "metadata": {
    "colab": {
      "provenance": []
    },
    "kernelspec": {
      "name": "python3",
      "display_name": "Python 3"
    },
    "language_info": {
      "name": "python"
    }
  },
  "cells": [
    {
      "cell_type": "markdown",
      "source": [
        "# Usage\n",
        "This is meant to streamline bulk-updating SOAR marketplace integrations. By default it will overwrite the existing ontology, so make sure to update the `override_ontology_mapping` option to change this if needed."
      ],
      "metadata": {
        "id": "FEpbhQ9qqoP0"
      }
    },
    {
      "cell_type": "code",
      "source": [
        "# @title Update Marketplace Integrations\n",
        "soar_url = \"\" # @param {\"type\":\"string\",\"placeholder\":\"https://my-soar.siemplify-soar.com\"}\n",
        "api_key = \"\" # @param {\"type\":\"string\",\"placeholder\":\"1111-2222-33333-4444444\"}\n",
        "override_ontology_mapping = True # @param {\"type\":\"boolean\"}\n",
        "import requests\n",
        "import json\n",
        "import datetime\n",
        "\n",
        "auth_header = {\n",
        "        'content-type': 'application/json',\n",
        "        'Appkey' : api_key\n",
        "}\n",
        "\n",
        "def main():\n",
        "\n",
        "  # Main entry\n",
        "  get_integrations()\n",
        "\n",
        "def get_integrations():\n",
        "  resp = requests.get(url=soar_url + \"/api/external/v1/integrations/GetInstalledIntegrations?format=camel\",\n",
        "                       headers=auth_header\n",
        "                      )\n",
        "  mkt = resp.json()\n",
        "  for i in mkt:\n",
        "    # We're only interested in integrations from the Marketplace\n",
        "    if i['isCertified'] == True:\n",
        "      mkt_version = get_marketplace_version(i['identifier'])\n",
        "      # If there is a version mismatch between local and Marketplace, we have an update\n",
        "      if (str(mkt_version) != i['versionForDisplay']):\n",
        "        print(\"Update found for: \" + i['identifier'] + \" (Marketplace Version: \" + str(mkt_version) + \" Installed Version: \" + i['versionForDisplay'] + \")\")\n",
        "        update_integration(i['identifier'])\n",
        "\n",
        "\n",
        "def get_marketplace_version(name):\n",
        "  payload = {\n",
        "    \"integrationIdentifier\": name,\n",
        "  }\n",
        "  resp = requests.post(url=soar_url + \"/api/external/v1/store/GetIntegrationFullDetails?format=camel\",\n",
        "                       headers=auth_header, json=payload\n",
        "                      )\n",
        "  return resp.json()['version']\n",
        "\n",
        "def update_integration(name):\n",
        "  payload = {\n",
        "    \"identifier\": name,\n",
        "    \"isCertified\": True,\n",
        "    \"overrideMapping\": override_ontology_mapping\n",
        "  }\n",
        "  resp = requests.post(url=soar_url + \"/api/external/v1/store/DownloadAndInstallIntegrationFromLocalStore?format=camel&isStaging=false\",\n",
        "                       headers=auth_header, json=payload\n",
        "                      )\n",
        "  print(resp.text)\n",
        "\n",
        "\n",
        "if __name__ == \"__main__\":\n",
        "    main()"
      ],
      "metadata": {
        "id": "MeC9Lg6Etero"
      },
      "execution_count": null,
      "outputs": []
    }
  ]
}